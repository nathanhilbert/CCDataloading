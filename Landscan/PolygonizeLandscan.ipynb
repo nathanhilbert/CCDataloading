{
 "cells": [
  {
   "cell_type": "markdown",
   "metadata": {},
   "source": [
    "**IN QGIS**\n",
    "\n",
    " - reproject raster to 4326\n",
    " - simple reclass with -2147483647 (No Data value) to 193 (Value used by USDA to determine rural 500 people/square mile) to -99999 (no data value default for tiffs) and >= 193 is 1\n",
    " - Polygonize the resulting tif with polygonize tool in qgis.  Below is the same option with python bindings"
   ]
  },
  {
   "cell_type": "code",
   "execution_count": null,
   "metadata": {
    "collapsed": true
   },
   "outputs": [],
   "source": [
    "from osgeo import gdal, ogr\n",
    "import sys\n",
    "# this allows GDAL to throw Python Exceptions\n",
    "gdal.UseExceptions()\n",
    "\n",
    "#\n",
    "#  get raster datasource\n",
    "#\n",
    "from os.path import expanduser\n",
    "import os.path as op\n",
    "home = expanduser(\"~\")\n",
    "\n",
    "src_ds = gdal.Open( op.join(home,\"downloads/Landscan/landscanworld.tif\" )\n",
    "if src_ds is None:\n",
    "    print 'Unable to open %s' % src_filename\n",
    "    sys.exit(1)\n",
    "\n",
    "try:\n",
    "    srcband = src_ds.GetRasterBand(3)\n",
    "except RuntimeError, e:\n",
    "    # for example, try GetRasterBand(10)\n",
    "    print 'Band ( %i ) not found' % band_num\n",
    "    print e\n",
    "    sys.exit(1)\n",
    "\n",
    "#\n",
    "#  create output datasource\n",
    "#\n",
    "dst_layername = \"POLYGONIZED_STUFF\"\n",
    "drv = ogr.GetDriverByName(\"ESRI Shapefile\")\n",
    "dst_ds = drv.CreateDataSource( dst_layername + \".shp\" )\n",
    "dst_layer = dst_ds.CreateLayer(dst_layername, srs = None )\n",
    "\n",
    "gdal.Polygonize( srcband, None, dst_layer, -1, [], callback=None )"
   ]
  }
 ],
 "metadata": {
  "kernelspec": {
   "display_name": "Python 2",
   "language": "python",
   "name": "python2"
  },
  "language_info": {
   "codemirror_mode": {
    "name": "ipython",
    "version": 2
   },
   "file_extension": ".py",
   "mimetype": "text/x-python",
   "name": "python",
   "nbconvert_exporter": "python",
   "pygments_lexer": "ipython2",
   "version": "2.7.12"
  }
 },
 "nbformat": 4,
 "nbformat_minor": 0
}
