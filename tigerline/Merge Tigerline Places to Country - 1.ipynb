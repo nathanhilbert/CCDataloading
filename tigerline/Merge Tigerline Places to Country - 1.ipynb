{
 "cells": [
  {
   "cell_type": "markdown",
   "metadata": {},
   "source": [
    "Grab the tigerplace data from the ftp and load it into postgis\n",
    "---------------"
   ]
  },
  {
   "cell_type": "code",
   "execution_count": 15,
   "metadata": {
    "collapsed": false
   },
   "outputs": [
    {
     "name": "stdout",
     "output_type": "stream",
     "text": [
      "Downloading tl_2015_01_place.zip\n",
      "Downloading tl_2015_02_place.zip\n",
      "Downloading tl_2015_04_place.zip\n",
      "Downloading tl_2015_05_place.zip\n",
      "Downloading tl_2015_06_place.zip\n",
      "Downloading tl_2015_08_place.zip\n",
      "Downloading tl_2015_09_place.zip\n",
      "Downloading tl_2015_10_place.zip\n",
      "Downloading tl_2015_11_place.zip\n",
      "Downloading tl_2015_12_place.zip\n",
      "Downloading tl_2015_13_place.zip\n",
      "Downloading tl_2015_15_place.zip\n",
      "Downloading tl_2015_16_place.zip\n",
      "Downloading tl_2015_17_place.zip\n",
      "Downloading tl_2015_18_place.zip\n",
      "Downloading tl_2015_19_place.zip\n",
      "Downloading tl_2015_20_place.zip\n",
      "Downloading tl_2015_21_place.zip\n",
      "Downloading tl_2015_22_place.zip\n",
      "Downloading tl_2015_23_place.zip\n",
      "Downloading tl_2015_24_place.zip\n",
      "Downloading tl_2015_25_place.zip\n",
      "Downloading tl_2015_26_place.zip\n",
      "Downloading tl_2015_27_place.zip\n",
      "Downloading tl_2015_28_place.zip\n",
      "Downloading tl_2015_29_place.zip\n",
      "Downloading tl_2015_30_place.zip\n",
      "Downloading tl_2015_31_place.zip\n",
      "Downloading tl_2015_32_place.zip\n",
      "Downloading tl_2015_33_place.zip\n",
      "Downloading tl_2015_34_place.zip\n",
      "Downloading tl_2015_35_place.zip\n",
      "Downloading tl_2015_36_place.zip\n",
      "Downloading tl_2015_37_place.zip\n",
      "Downloading tl_2015_38_place.zip\n",
      "Downloading tl_2015_39_place.zip\n",
      "Downloading tl_2015_40_place.zip\n",
      "Downloading tl_2015_41_place.zip\n",
      "Downloading tl_2015_42_place.zip\n",
      "Downloading tl_2015_44_place.zip\n",
      "Downloading tl_2015_45_place.zip\n",
      "Downloading tl_2015_46_place.zip\n",
      "Downloading tl_2015_47_place.zip\n",
      "Downloading tl_2015_48_place.zip\n",
      "Downloading tl_2015_49_place.zip\n",
      "Downloading tl_2015_50_place.zip\n",
      "Downloading tl_2015_51_place.zip\n",
      "Downloading tl_2015_53_place.zip\n",
      "Downloading tl_2015_54_place.zip\n",
      "Downloading tl_2015_55_place.zip\n",
      "Downloading tl_2015_56_place.zip\n",
      "Downloading tl_2015_60_place.zip\n",
      "Downloading tl_2015_66_place.zip\n",
      "Downloading tl_2015_69_place.zip\n",
      "Downloading tl_2015_72_place.zip\n",
      "Downloading tl_2015_78_place.zip\n"
     ]
    },
    {
     "data": {
      "text/plain": [
       "'221 Goodbye.'"
      ]
     },
     "execution_count": 15,
     "metadata": {},
     "output_type": "execute_result"
    }
   ],
   "source": [
    "from ftplib import FTP\n",
    "from io import BytesIO\n",
    "\n",
    "ftp = FTP('ftp2.census.gov') #/geo/tiger/TIGER2015/PLACE/\n",
    "ftp.login() \n",
    "ftp.cwd('geo/tiger/TIGER2015/PLACE/')\n",
    "\n",
    "filenames = ftp.nlst() # get filenames within the directory\n",
    "\n",
    "tigerlinedata = {}\n",
    "\n",
    "for filename in filenames:\n",
    "    print(\"Downloading %s\"%filename)\n",
    "    file = BytesIO()\n",
    "    ftp.retrbinary('RETR '+ filename, file.write)\n",
    "    tigerlinedata[filename] = file\n",
    "\n",
    "ftp.quit() # This is the “polite” way to close a connection\n",
    "\n"
   ]
  },
  {
   "cell_type": "code",
   "execution_count": 23,
   "metadata": {
    "collapsed": false
   },
   "outputs": [],
   "source": [
    "import zipfile\n",
    "ZIPOUTPUT = 'data/tigerlinedata'\n",
    "\n",
    "# print(zipfile_ob.namelist())\n",
    "for zipped in tigerlinedata.values():\n",
    "    zipfile_ob = zipfile.ZipFile(zipped)\n",
    "    zipfile_ob.extractall(path='data/tigerlinedata/')\n"
   ]
  },
  {
   "cell_type": "code",
   "execution_count": 29,
   "metadata": {
    "collapsed": false
   },
   "outputs": [
    {
     "name": "stdout",
     "output_type": "stream",
     "text": [
      "tl_2015_01_place.shp\n",
      "tl_2015_02_place.shp\n",
      "tl_2015_04_place.shp\n",
      "tl_2015_05_place.shp\n",
      "tl_2015_06_place.shp\n",
      "tl_2015_08_place.shp\n",
      "tl_2015_09_place.shp\n",
      "tl_2015_10_place.shp\n",
      "tl_2015_11_place.shp\n",
      "tl_2015_12_place.shp\n",
      "tl_2015_13_place.shp\n",
      "tl_2015_15_place.shp\n",
      "tl_2015_16_place.shp\n",
      "tl_2015_17_place.shp\n",
      "tl_2015_18_place.shp\n",
      "tl_2015_19_place.shp\n",
      "tl_2015_20_place.shp\n",
      "tl_2015_21_place.shp\n",
      "tl_2015_22_place.shp\n",
      "tl_2015_23_place.shp\n",
      "tl_2015_24_place.shp\n",
      "tl_2015_25_place.shp\n",
      "tl_2015_26_place.shp\n",
      "tl_2015_27_place.shp\n",
      "tl_2015_28_place.shp\n",
      "tl_2015_29_place.shp\n",
      "tl_2015_30_place.shp\n",
      "tl_2015_31_place.shp\n",
      "tl_2015_32_place.shp\n",
      "tl_2015_33_place.shp\n",
      "tl_2015_34_place.shp\n",
      "tl_2015_35_place.shp\n",
      "tl_2015_36_place.shp\n",
      "tl_2015_37_place.shp\n",
      "tl_2015_38_place.shp\n",
      "tl_2015_39_place.shp\n",
      "tl_2015_40_place.shp\n",
      "tl_2015_41_place.shp\n",
      "tl_2015_42_place.shp\n",
      "tl_2015_44_place.shp\n",
      "tl_2015_45_place.shp\n",
      "tl_2015_46_place.shp\n",
      "tl_2015_47_place.shp\n",
      "tl_2015_48_place.shp\n",
      "tl_2015_49_place.shp\n",
      "tl_2015_50_place.shp\n",
      "tl_2015_51_place.shp\n",
      "tl_2015_53_place.shp\n",
      "tl_2015_54_place.shp\n",
      "tl_2015_55_place.shp\n",
      "tl_2015_56_place.shp\n",
      "tl_2015_60_place.shp\n",
      "tl_2015_66_place.shp\n",
      "tl_2015_69_place.shp\n",
      "tl_2015_72_place.shp\n",
      "tl_2015_78_place.shp\n",
      "29854\n"
     ]
    }
   ],
   "source": [
    "import fiona\n",
    "from shapely.geometry import shape\n",
    "import os\n",
    "features = []\n",
    "for file in os.listdir(ZIPOUTPUT):\n",
    "    if file.endswith(\".shp\"):\n",
    "        with fiona.open(os.path.join(ZIPOUTPUT, file)) as f:\n",
    "            features += [feat for feat in f]\n",
    "print(len(features))\n",
    "# polygons =[shape(feature['geometry') for feature in fiona.open(\"polygons.shp\")]\n",
    "# from shapely.ops import cascaded_union, unary_union\n",
    "# union_poly = cascaded_union(polygons) # or unary_union(polygons)"
   ]
  },
  {
   "cell_type": "code",
   "execution_count": 31,
   "metadata": {
    "collapsed": false
   },
   "outputs": [
    {
     "name": "stdout",
     "output_type": "stream",
     "text": [
      "{'geometry': {'type': 'Polygon', 'coordinates': [[(-87.855071, 33.707785), (-87.85509599999999, 33.710592999999996), (-87.85356, 33.710583), (-87.852907, 33.71058), (-87.846972, 33.710546), (-87.84368099999999, 33.710603), (-87.84132699999999, 33.710556), (-87.841364, 33.714704999999995), (-87.84132799999999, 33.716916999999995), (-87.835208, 33.716805), (-87.829002, 33.71669), (-87.829022, 33.718968), (-87.829022, 33.720679), (-87.828987, 33.720759), (-87.82900000000001, 33.720904), (-87.828998, 33.721137), (-87.828974, 33.721641), (-87.82896699999999, 33.722021), (-87.8289, 33.723734), (-87.828885, 33.724320999999996), (-87.828898, 33.724612), (-87.82892299999999, 33.725054), (-87.828985, 33.72574), (-87.829129, 33.727125), (-87.829199, 33.727956), (-87.821686, 33.727826), (-87.82065999999999, 33.727807999999996), (-87.818936, 33.727778), (-87.815484, 33.727720999999995), (-87.814584, 33.727709), (-87.810542, 33.727683), (-87.807211, 33.727689999999996), (-87.807422, 33.730924), (-87.81200799999999, 33.730957), (-87.811576, 33.73141), (-87.811111, 33.731881), (-87.810914, 33.732079999999996), (-87.810226, 33.732749999999996), (-87.810062, 33.73265), (-87.809804, 33.732637), (-87.809096, 33.732631999999995), (-87.808832, 33.732634), (-87.80856899999999, 33.732627), (-87.808483, 33.732619), (-87.808398, 33.732602), (-87.808315, 33.732575), (-87.808238, 33.732538999999996), (-87.808165, 33.732498), (-87.80796, 33.732361), (-87.807831, 33.732262999999996), (-87.807716, 33.732154), (-87.80765199999999, 33.732106), (-87.80758, 33.73206), (-87.807328, 33.731975999999996), (-87.807171, 33.731907), (-87.807054, 33.7318), (-87.807, 33.731663), (-87.806991, 33.731591), (-87.806989, 33.731369), (-87.806979, 33.731072), (-87.80696499999999, 33.730851), (-87.80695, 33.730706), (-87.806949, 33.730634), (-87.806934, 33.730489), (-87.806924, 33.730343), (-87.806953, 33.730036), (-87.806919, 33.728615), (-87.806837, 33.728344), (-87.806848, 33.725215), (-87.80685299999999, 33.723148), (-87.806855, 33.722336), (-87.806889, 33.722044), (-87.806896, 33.721601), (-87.806893, 33.721306999999996), (-87.80687499999999, 33.721013), (-87.806831, 33.720774999999996), (-87.806865, 33.716406), (-87.80688099999999, 33.713079), (-87.806884, 33.712506), (-87.81132, 33.712526), (-87.811285, 33.710418), (-87.811129, 33.69833), (-87.811082, 33.697024), (-87.810645, 33.684633), (-87.81061, 33.683625), (-87.81134999999999, 33.683653), (-87.81707399999999, 33.683876), (-87.817073, 33.683745), (-87.81708499999999, 33.679891), (-87.817098, 33.677293999999996), (-87.817098, 33.677042), (-87.819559, 33.677163), (-87.82211, 33.677281), (-87.82400899999999, 33.676894), (-87.82397, 33.669671), (-87.82967699999999, 33.669663), (-87.832634, 33.66966), (-87.832647, 33.667235999999995), (-87.832679, 33.659607), (-87.832683, 33.659208), (-87.83268799999999, 33.658691), (-87.832695, 33.658028), (-87.832706, 33.657042), (-87.832706, 33.656835), (-87.832745, 33.656811999999995), (-87.832717, 33.654503999999996), (-87.83367, 33.654506999999995), (-87.83713999999999, 33.654522), (-87.83789, 33.654529), (-87.83803499999999, 33.654526), (-87.839608, 33.654589), (-87.841381, 33.654517), (-87.841348, 33.658315), (-87.844554, 33.658305999999996), (-87.849994, 33.658294), (-87.850073, 33.666222999999995), (-87.850093, 33.668123), (-87.85010899999999, 33.669771), (-87.850202, 33.678625), (-87.850231, 33.685237), (-87.85027, 33.688672), (-87.850275, 33.689381), (-87.850347, 33.698001999999995), (-87.850426, 33.706813), (-87.854888, 33.706753), (-87.855063, 33.706748999999995), (-87.85510099999999, 33.707732), (-87.855071, 33.707785)]]}, 'properties': OrderedDict([('STATEFP', '01'), ('PLACEFP', '25840'), ('PLACENS', '02403599'), ('GEOID', '0125840'), ('NAME', 'Fayette'), ('NAMELSAD', 'Fayette city'), ('LSAD', '25'), ('CLASSFP', 'C1'), ('PCICBSA', 'N'), ('PCINECTA', 'N'), ('MTFCC', 'G4110'), ('FUNCSTAT', 'A'), ('ALAND', 22143481), ('AWATER', 212108), ('INTPTLAT', '+33.6942153'), ('INTPTLON', '-087.8311690')]), 'type': 'Feature', 'id': '0'}\n"
     ]
    }
   ],
   "source": [
    "print(features[0])"
   ]
  },
  {
   "cell_type": "code",
   "execution_count": 36,
   "metadata": {
    "collapsed": false
   },
   "outputs": [],
   "source": [
    "# Define a polygon feature geometry with one attribute\n",
    "# OrderedDict([('STATEFP', '01'), ('PLACEFP', '25840'), ('PLACENS', '02403599'), ('GEOID', '0125840'), \n",
    "#              ('NAME', 'Fayette'), ('NAMELSAD', 'Fayette city'), ('LSAD', '25'), ('CLASSFP', 'C1'), \n",
    "#              ('PCICBSA', 'N'), ('PCINECTA', 'N'), ('MTFCC', 'G4110'), ('FUNCSTAT', 'A'), ('ALAND', 22143481), \n",
    "#              ('AWATER', 212108), ('INTPTLAT', '+33.6942153'), ('INTPTLON', '-087.8311690')]\n",
    "            \n",
    "schema = {'geometry': 'Polygon',\n",
    "    'properties': {'STATEFP': 'str',\n",
    "                  'PLACEFP': 'str',\n",
    "                  'PLACENS': 'str',\n",
    "                  'GEOID': 'str',\n",
    "                  'NAME': 'str',\n",
    "                  'NAMELSAD': 'str',\n",
    "                  'LSAD': 'str',\n",
    "                  'CLASSFP': 'str',\n",
    "                  'PCICBSA': 'str',\n",
    "                  'PCINECTA': 'str',\n",
    "                  'MTFCC': 'str',\n",
    "                  'FUNCSTAT': 'str',\n",
    "                  'ALAND': 'int',\n",
    "                  'AWATER': 'int',\n",
    "                  'INTPTLAT': 'str',\n",
    "                  'INTPTLON': 'str'}\n",
    "}\n",
    "\n",
    "# Write a new Shapefile\n",
    "with fiona.open('data/tigerlineplaces.shp', 'w', 'ESRI Shapefile', schema) as c:\n",
    "    ## If there are multiple geometries, put the \"for\" loop here\n",
    "    for f in features:\n",
    "        c.write(f)"
   ]
  },
  {
   "cell_type": "code",
   "execution_count": null,
   "metadata": {
    "collapsed": false
   },
   "outputs": [],
   "source": []
  },
  {
   "cell_type": "code",
   "execution_count": 73,
   "metadata": {
    "collapsed": false
   },
   "outputs": [],
   "source": [
    "from sqlalchemy.orm import sessionmaker\n",
    "Session = sessionmaker(bind=engine)\n",
    "session = Session()\n",
    "\n"
   ]
  },
  {
   "cell_type": "code",
   "execution_count": 74,
   "metadata": {
    "collapsed": false
   },
   "outputs": [],
   "source": [
    "session.rollback()"
   ]
  },
  {
   "cell_type": "code",
   "execution_count": 75,
   "metadata": {
    "collapsed": false
   },
   "outputs": [],
   "source": [
    "from shapely.geometry import MultiPolygon\n",
    "for feat in features:\n",
    "    props = {k.lower():v for k,v in feat['properties'].items()}\n",
    "    geometry = shape(feat['geometry'])\n",
    "    if geometry.geom_type == 'Polygon':\n",
    "        geometry = MultiPolygon([geometry])\n",
    "    featobj = TigerLinePlaces(geom=geometry.wkt, **props)\n",
    "        \n",
    "        \n",
    "    \n",
    "\n",
    "    session.add(featobj)\n",
    "    session.commit()\n",
    "\n",
    "# lake = Lake(name='Majeur', geom='POLYGON((0 0,1 0,1 1,0 1,0 0))')\n",
    "\n",
    "# print(shape(features[0]['geometry']))\n",
    "# for fid, feat in shapefile.items():\n",
    "#         shapely_geom = shape(feat['geometry'])\n",
    "#         ga2_geom = WKTElement(shapely_geom.wkt, epsg)"
   ]
  },
  {
   "cell_type": "markdown",
   "metadata": {},
   "source": [
    "Method using psycopg2\n",
    "\n",
    "```\n",
    "import psycopg2\n",
    "import postgis\n",
    "db = psycopg2.connect(dbname=\"urbis\", user=\"postgres\", password=\"postgres\", host=\"localhost\")\n",
    "cursor = db.cursor()\n",
    "postgis.register(cursor)\n",
    "cursor.execute(\"\"\"CREATE TABLE IF NOT EXISTS public.tigerlineplaces (\"geom\" geometry(POLYGON) NOT NULL,\n",
    "                                                                  STATEFP CHAR(50),\n",
    "                                                                    PLACEFP CHAR(50),\n",
    "                                                                    PLACENS CHAR(50),\n",
    "                                                                    GEOID CHAR(50),\n",
    "                                                                    NAME CHAR(50) NOT NULL,\n",
    "                                                                    NAMELSAD CHAR(50),\n",
    "                                                                    LSAD CHAR(50),\n",
    "                                                                    CLASSFP CHAR(50),\n",
    "                                                                    PCICBSA CHAR(50),\n",
    "                                                                    PCINECTA CHAR(50),\n",
    "                                                                    MTFCC CHAR(50),\n",
    "                                                                    FUNCSTAT CHAR(50),\n",
    "                                                                    ALAND INT,\n",
    "                                                                    AWATER INT,\n",
    "                                                                    INTPTLAT CHAR(50),\n",
    "                                                                    INTPTLON CHAR(50))\"\"\")\n",
    "db.commit()\n",
    "\n",
    "for f in features:\n",
    "    wfeat = [str(f['geometry'])] + [str(x) for x in f['properties'].values()]\n",
    "    cursor.execute(\"\"\"INSERT INTO public.tigerlineplaces (geom,\n",
    "                                                    STATEFP,\n",
    "                                                    PLACEFP,\n",
    "                                                    PLACENS,\n",
    "                                                    GEOID,\n",
    "                                                    NAME\n",
    "                                                    NAMELSAD, \n",
    "                                                    LSAD, \n",
    "                                                    CLASSFP, \n",
    "                                                    PCICBSA, \n",
    "                                                    PCINECTA, \n",
    "                                                    MTFCC, \n",
    "                                                    FUNCSTAT, \n",
    "                                                    ALAND ,\n",
    "                                                    AWATER ,\n",
    "                                                    INTPTLAT,\n",
    "                                                    INTPTLON) VALUES (%s)\"\"\", wfeat)\n",
    "db.commit()\n",
    "\n",
    "```"
   ]
  },
  {
   "cell_type": "code",
   "execution_count": null,
   "metadata": {
    "collapsed": true
   },
   "outputs": [],
   "source": []
  }
 ],
 "metadata": {
  "kernelspec": {
   "display_name": "Python 2",
   "language": "python",
   "name": "python2"
  },
  "language_info": {
   "codemirror_mode": {
    "name": "ipython",
    "version": 2
   },
   "file_extension": ".py",
   "mimetype": "text/x-python",
   "name": "python",
   "nbconvert_exporter": "python",
   "pygments_lexer": "ipython2",
   "version": "2.7.12"
  }
 },
 "nbformat": 4,
 "nbformat_minor": 0
}
