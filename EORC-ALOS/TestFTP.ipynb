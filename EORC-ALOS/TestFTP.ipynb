{
 "cells": [
  {
   "cell_type": "code",
   "execution_count": 1,
   "metadata": {
    "collapsed": true
   },
   "outputs": [],
   "source": [
    "BASE = \"ftp://ftp.eorc.jaxa.jp/pub/ALOS/ext1/AW3D30/v1604/N020W095_N025W090.tar.gz\"\n",
    "SRCPROJ = \"EPSG:4269\"\n",
    "\n",
    "\n",
    "import os\n",
    "try:\n",
    "    os.mkdir(\"RawData\")\n",
    "except:\n",
    "    pass\n",
    "\n",
    "\n",
    "    "
   ]
  },
  {
   "cell_type": "code",
   "execution_count": 5,
   "metadata": {
    "collapsed": false
   },
   "outputs": [
    {
     "name": "stdout",
     "output_type": "stream",
     "text": [
      "N020W075_N025W070.tar.gz 18162764 18162764 True\n",
      "N020W080_N025W075.tar.gz 114063474 114063474 True\n",
      "N020W085_N025W080.tar.gz 67903828 67903828 True\n",
      "N020W090_N025W085.tar.gz 61131267 61131267 True\n",
      "N020W095_N025W090.tar.gz 9789631 9789631 True\n",
      "N020W100_N025W095.tar.gz 337386288 337386288 True\n",
      "N020W110_N025W105.tar.gz 235373110 235373110 True\n",
      "N020W115_N025W110.tar.gz 36660690 36660690 True\n",
      "N025W080_N030W075.tar.gz 7505144 7505144 True\n",
      "N025W085_N030W080.tar.gz 161542573 161542573 True\n",
      "N025W090_N030W085.tar.gz 8789347 8789347 True\n",
      "N025W095_N030W090.tar.gz 34890861 34890861 True\n",
      "N025W100_N030W095.tar.gz 270222294 270222294 True\n",
      "N025W105_N030W100.tar.gz 564812250 564812250 True\n",
      "N025W110_N030W105.tar.gz 751763019 751763019 True\n",
      "N025W115_N030W110.tar.gz 269769397 269769397 True\n",
      "N025W120_N030W115.tar.gz 11762697 11762697 True\n",
      "N030W080_N035W075.tar.gz 80067537 80067537 True\n",
      "N030W085_N035W080.tar.gz 524750939 524750939 True\n",
      "N030W090_N035W085.tar.gz 548200349 548200349 True\n",
      "N030W095_N035W090.tar.gz 543346762 543346762 True\n",
      "N030W100_N035W095.tar.gz 481755924 481755924 True\n",
      "N030W105_N035W100.tar.gz 416118625 416118625 True\n",
      "N030W110_N035W105.tar.gz 570791725 570791725 True\n",
      "N030W115_N035W110.tar.gz 519370410 519370410 True\n",
      "N030W120_N035W115.tar.gz 351548427 351548427 True\n",
      "N030W125_N035W120.tar.gz 12455316 12455316 True\n",
      "N035W075_N040W070.tar.gz 12876739 12876739 True\n",
      "N035W080_N040W075.tar.gz 539885421 539885421 True\n",
      "N035W085_N040W080.tar.gz 729257567 729257567 True\n",
      "N035W090_N040W085.tar.gz 572045828 572045828 True\n",
      "N035W095_N040W090.tar.gz 586563984 586563984 True\n",
      "N035W100_N040W095.tar.gz 483941778 483941778 True\n",
      "N035W105_N040W100.tar.gz 452383780 452383780 True\n",
      "N035W110_N040W105.tar.gz 722440910 722440910 True\n",
      "N035W115_N040W110.tar.gz 691898885 691898885 True\n",
      "N035W120_N040W115.tar.gz 726172332 726172332 True\n",
      "N035W125_N040W120.tar.gz 401922514 401922514 True\n",
      "N040W070_N045W065.tar.gz 79630640 79630640 True\n",
      "N040W075_N045W070.tar.gz 484523912 484523912 True\n",
      "N040W080_N045W075.tar.gz 550820855 550820855 True\n",
      "N040W085_N045W080.tar.gz 404645291 404645291 True\n",
      "N040W090_N045W085.tar.gz 432122425 432122425 True\n",
      "N040W095_N045W090.tar.gz 522287540 522287540 True\n",
      "N045W070_N050W065.tar.gz 462826739 462826739 True\n",
      "N045W075_N050W070.tar.gz 507062940 507062940 True\n",
      "N045W080_N050W075.tar.gz 504274940 504274940 True\n",
      "N045W085_N050W080.tar.gz 454759198 454759198 True\n",
      "N045W090_N050W085.tar.gz 371721781 371721781 True\n",
      "N045W095_N050W090.tar.gz 492905296 492905296 True\n",
      "N045W100_N050W095.tar.gz 438696470 438696470 True\n",
      "N045W105_N050W100.tar.gz 472402567 472402567 True\n",
      "N045W110_N050W105.tar.gz 553763479 553763479 True\n",
      "N045W115_N050W110.tar.gz 718285520 718285520 True\n",
      "N045W120_N050W115.tar.gz 806164714 806164714 True\n",
      "N045W125_N050W120.tar.gz 692104142 692104142 True\n",
      "21878322835 26232313706\n"
     ]
    }
   ],
   "source": [
    "import ftplib\n",
    "import os\n",
    "ftp = ftplib.FTP(\"ftp.eorc.jaxa.jp\")\n",
    "ftp.login()\n",
    "\n",
    "ftp.cwd(\"/pub/ALOS/ext1/AW3D30/v1604/\")\n",
    "# print ftp.retrlines('LIST')  \n",
    "# with open(dest, 'wb') as fout:\n",
    "#     ftp.retrbinary(\"RETR \" + urlfile ,fout.write)\n",
    "ftp.sendcmd(\"TYPE i\")    # Switch to Binary mode\n",
    "\n",
    "totalloaded = 0\n",
    "totaltodownload = 0\n",
    "\n",
    "todownload = []\n",
    "\n",
    "for n in range(20, 50, 5):\n",
    "    for w in range(65, 125, 5):\n",
    "        maxn = str(n + 5).zfill(3)\n",
    "        minn = str(n).zfill(3)\n",
    "        maxw = str(w + 5).zfill(3)\n",
    "        minw = str(w).zfill(3)\n",
    "        filename = \"N{0}W{1}_N{2}W{3}.tar.gz\".format(minn, maxw, maxn, minw)\n",
    "        try:\n",
    "            size = ftp.size(filename)   # Get size of file\n",
    "            totaltodownload += size\n",
    "        except:\n",
    "            size = None\n",
    "        try:\n",
    "            currentfilesize = os.path.getsize('RawData/{0}'.format(filename))\n",
    "            totalloaded += currentfilesize\n",
    "        except:\n",
    "            currentfilesize = None\n",
    "        if not size:\n",
    "            continue\n",
    "        if not currentfilesize:\n",
    "            todownload.append(filename)\n",
    "            continue\n",
    "        if size!=currentfilesize:\n",
    "            todownload.append(filename)\n",
    "            continue\n",
    "        print filename, size, currentfilesize, size==currentfilesize\n",
    "#         if size and currentfilesize and size!=currentfilesize:\n",
    "#             os.remove('RawData/{0}'.format(filename))\n",
    "#             print \"removed\", filename\n",
    "print totalloaded, totaltodownload\n",
    "ftp.close()"
   ]
  },
  {
   "cell_type": "code",
   "execution_count": 6,
   "metadata": {
    "collapsed": false
   },
   "outputs": [
    {
     "name": "stdout",
     "output_type": "stream",
     "text": [
      "N020W105_N025W100.tar.gz\n",
      "N040W100_N045W095.tar.gz\n",
      "N040W105_N045W100.tar.gz\n",
      "N040W110_N045W105.tar.gz\n",
      "N040W115_N045W110.tar.gz\n",
      "N040W120_N045W115.tar.gz\n",
      "N040W125_N045W120.tar.gz\n",
      "0.834021851073\n"
     ]
    }
   ],
   "source": [
    "print \"\\n\".join(todownload)\n",
    "print float(totalloaded)/float(totaltodownload)"
   ]
  },
  {
   "cell_type": "code",
   "execution_count": null,
   "metadata": {
    "collapsed": true
   },
   "outputs": [],
   "source": []
  }
 ],
 "metadata": {
  "kernelspec": {
   "display_name": "Python 2",
   "language": "python",
   "name": "python2"
  },
  "language_info": {
   "codemirror_mode": {
    "name": "ipython",
    "version": 2
   },
   "file_extension": ".py",
   "mimetype": "text/x-python",
   "name": "python",
   "nbconvert_exporter": "python",
   "pygments_lexer": "ipython2",
   "version": "2.7.12"
  }
 },
 "nbformat": 4,
 "nbformat_minor": 0
}
