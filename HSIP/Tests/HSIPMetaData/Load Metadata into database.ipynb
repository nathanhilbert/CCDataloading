{
 "cells": [
  {
   "cell_type": "markdown",
   "metadata": {},
   "source": [
    "Grab the Metadata out of the CSV and load the data into Postgres\n",
    "-----------\n",
    "\n",
    " - Lookup the dataset based on the row of the csv metadata\n",
    " - Push data to postgis\n",
    " - Add row in postgres\n",
    " - Post process search for lookups"
   ]
  },
  {
   "cell_type": "code",
   "execution_count": 2,
   "metadata": {
    "collapsed": false
   },
   "outputs": [
    {
     "name": "stdout",
     "output_type": "stream",
     "text": [
      "27\n",
      "[u'EmergencyServ.gdb', u'TransWater.gdb', u'Agriculture.gdb', u'National Levee DB.gdb', u'Law Enforcement.gdb', u'WaterSupply.gdb', u'Energy.gdb', u'Borders.gdb', u'Communications.gdb', u'FoodIndustry.gdb', u'PubVenues.gdb', u'Education.gdb', u'InfrastructureAssetList(IAL).gdb', u'TransAir.gdb', u'Chemical.gdb', u'PubHealth.gdb', u'TransGround.gdb', u'Commercial.gdb', u'Government.gdb', u'Finance.gdb', u'NaturalHazards.gdb', u'MailShipping.gdb', u'Manufacturing.gdb', u'National_Flood_Hazard.gdb', u'Mining.gdb', u'Geonames.gdb', u'Boundaries.gdb']\n"
     ]
    }
   ],
   "source": [
    "DATACSVPATH = u'DataList-HSIP_GDBs.csv'\n",
    "BASEGDBPATH = u'/Users/nlh/Workspace/Urbis/urbisshare/HSIP_GOLD_2015/Data/Infrastructure'\n",
    "\n",
    "\n",
    "import os\n",
    "import os.path as op\n",
    "import fiona\n",
    "\n",
    "gdbfolders = [d for d in os.listdir(BASEGDBPATH) if op.isdir(op.join(BASEGDBPATH, d))]\n",
    "gdbsdict = {}\n",
    "for gdbf in gdbfolders:\n",
    "    #there should only be one gdb per folder\n",
    "    tempgdb = [d for d in os.listdir(op.join(BASEGDBPATH, gdbf)) if op.isdir(op.join(BASEGDBPATH, gdbf, d))][0]\n",
    "    gdbsdict[tempgdb] = op.join(BASEGDBPATH, gdbf, tempgdb)\n",
    "    \n",
    "    \n",
    "print len(gdbsdict.keys())\n",
    "print gdbsdict.keys()"
   ]
  },
  {
   "cell_type": "code",
   "execution_count": 6,
   "metadata": {
    "collapsed": false
   },
   "outputs": [
    {
     "name": "stdout",
     "output_type": "stream",
     "text": [
      "{'name': u'AmericanRedCrossChpFacs', 'iterator': None, '_bounds': None, '_len': 0, '_driver': None, 'encoding': 'utf-8', '_schema': None, '_crs': None, 'enabled_drivers': None, 'session': <fiona.ogrext.Session object at 0x10b177890>, 'mode': 'r', 'env': <fiona._drivers.GDALEnv object at 0x10935e1d8>, '_crs_wkt': None, 'path': u'/Users/nlh/Workspace/Urbis/urbisshare/HSIP_GOLD_2015/Data/Infrastructure/EmergencyServ/EmergencyServ.gdb'}\n"
     ]
    }
   ],
   "source": [
    "import fiona \n",
    "ex_key = gdbsdict.keys()[0]\n",
    "ex_gdb = u'AmericanRedCrossChpFacs'\n",
    "fiona.listlayers(gdbsdict[ex_key])\n",
    "fdata = fiona.open(gdbsdict[ex_key], layer= u'AmericanRedCrossChpFacs') \n",
    "\n",
    "print vars(fdata)\n",
    "\n",
    "fdata.close()\n",
    "\n",
    "# with fiona.open(gdbsdict[ex_key], layer= u'AmericanRedCrossChpFacs') as fdata:\n",
    "#     examplef = fdata.next()\n",
    "#     print examplef['properties']"
   ]
  },
  {
   "cell_type": "code",
   "execution_count": null,
   "metadata": {
    "collapsed": true
   },
   "outputs": [],
   "source": [
    "import csv\n",
    "\n",
    "\n",
    "\n",
    "with open(DATACSVPATH) as csvfile:\n",
    "    reader = csv.DictReader(csvfile)\n",
    "    \n",
    "    \n",
    "\n",
    ">>> with open('names.csv') as csvfile:\n",
    "...     reader = csv.DictReader(csvfile)\n",
    "...     for row in reader:\n",
    "...         print(row['first_name'], row['last_name'])"
   ]
  }
 ],
 "metadata": {
  "kernelspec": {
   "display_name": "Python 2",
   "language": "python",
   "name": "python2"
  },
  "language_info": {
   "codemirror_mode": {
    "name": "ipython",
    "version": 2
   },
   "file_extension": ".py",
   "mimetype": "text/x-python",
   "name": "python",
   "nbconvert_exporter": "python",
   "pygments_lexer": "ipython2",
   "version": "2.7.12"
  }
 },
 "nbformat": 4,
 "nbformat_minor": 0
}
