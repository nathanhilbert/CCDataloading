{
 "cells": [
  {
   "cell_type": "code",
   "execution_count": 4,
   "metadata": {
    "collapsed": false
   },
   "outputs": [
    {
     "name": "stdout",
     "output_type": "stream",
     "text": [
      "OrderedDict([(u'UNIT', u'AEU'), (u'Shape_Length', 719937.8176929478), (u'Shape_Area', 10797166028.966227), (u'REGION', 1)])\n"
     ]
    }
   ],
   "source": [
    "import fiona \n",
    "path = \"cdfadmin13_1.gdb\"\n",
    "fiona.listlayers(path)\n",
    "with fiona.open(path, layer=\"cdfadmin13_1_unit\") as fdata:\n",
    "    examplef = fdata.next()\n",
    "    print examplef['properties']"
   ]
  },
  {
   "cell_type": "code",
   "execution_count": null,
   "metadata": {
    "collapsed": true
   },
   "outputs": [],
   "source": [
    "\"\""
   ]
  }
 ],
 "metadata": {
  "kernelspec": {
   "display_name": "Python 2",
   "language": "python",
   "name": "python2"
  },
  "language_info": {
   "codemirror_mode": {
    "name": "ipython",
    "version": 2
   },
   "file_extension": ".py",
   "mimetype": "text/x-python",
   "name": "python",
   "nbconvert_exporter": "python",
   "pygments_lexer": "ipython2",
   "version": "2.7.12"
  }
 },
 "nbformat": 4,
 "nbformat_minor": 0
}
