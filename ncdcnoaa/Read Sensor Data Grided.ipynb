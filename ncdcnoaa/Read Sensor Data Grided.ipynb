{
 "cells": [
  {
   "cell_type": "code",
   "execution_count": 1,
   "metadata": {
    "collapsed": true
   },
   "outputs": [],
   "source": [
    "from shapely.geometry import Point"
   ]
  },
  {
   "cell_type": "code",
   "execution_count": 2,
   "metadata": {
    "collapsed": false
   },
   "outputs": [],
   "source": [
    "import csv\n",
    "data = []\n",
    "index = [\"stationid2\", \"stationid3\", \"stationid\", \"lon\", \"lat\", \"tmin\"]\n",
    "with open('data/2015tminstations.csv', 'r') as fin:\n",
    "    for line in fin.readlines():\n",
    "        temparr = []\n",
    "        temparr.append(int(line[0:2]))\n",
    "        temparr.append(int(line[3:5]))\n",
    "        temparr.append(int(line[6:10]))\n",
    "        temparr.append(float(line[12:19]))\n",
    "        temparr.append(float(line[22:29]))\n",
    "        temparr.append(float(line[31:-1]))\n",
    "        data.append(temparr)\n",
    "\n",
    "\n",
    "\n"
   ]
  },
  {
   "cell_type": "code",
   "execution_count": 3,
   "metadata": {
    "collapsed": false
   },
   "outputs": [],
   "source": [
    "# for d in data:\n",
    "#     if d[2] == 5788:\n",
    "#         print d\n",
    "\n",
    "import pandas as pd\n",
    "\n",
    "df = pd.DataFrame(data, columns=index)\n",
    "\n",
    "dfsum = df.groupby(('lon', 'lat',), as_index=False).mean()"
   ]
  },
  {
   "cell_type": "code",
   "execution_count": 4,
   "metadata": {
    "collapsed": false
   },
   "outputs": [
    {
     "name": "stdout",
     "output_type": "stream",
     "text": [
      "         lon   lat  stationid2  stationid3  stationid      tmin\n",
      "0    -180.00  55.0    6.612500   15.293750       59.0  1.126250\n",
      "1    -180.00  57.5    6.526027   15.720548       60.0  1.496712\n",
      "2    -180.00  60.0    6.536111   15.708333       61.0  1.516389\n",
      "3    -180.00  62.5    6.526027   15.720548       62.0  1.833151\n",
      "4    -180.00  65.0    6.510989   15.692308       63.0  1.969231\n",
      "5    -180.00  67.5    6.510989   15.692308       64.0  2.268132\n",
      "6    -180.00  70.0    6.526171   15.727273       65.0  2.658678\n",
      "7    -180.00  72.5    6.465517   15.637931       66.0  2.713506\n",
      "8    -180.00  75.0    6.388199   15.490683       67.0  2.763354\n",
      "9    -180.00  77.5    5.863636   15.340909       68.0  2.752273\n",
      "10   -176.25  55.0    6.660920   15.528736      132.0  1.485632\n",
      "11   -176.25  57.5    6.526027   15.720548      133.0  1.826301\n",
      "12   -176.25  60.0    6.526027   15.720548      134.0  1.895342\n",
      "13   -176.25  62.5    6.526027   15.720548      135.0  2.116164\n",
      "14   -176.25  65.0    6.526027   15.720548      136.0  2.221370\n",
      "15   -176.25  67.5    6.526027   15.720548      137.0  2.365205\n",
      "16   -176.25  70.0    6.526027   15.720548      138.0  2.641918\n",
      "17   -176.25  72.5    6.481894   15.679666      139.0  2.749025\n",
      "18   -176.25  75.0    6.465517   15.637931      140.0  2.740517\n",
      "19   -172.50  55.0    6.526027   15.720548      205.0  1.924932\n",
      "20   -172.50  57.5    6.526027   15.720548      206.0  2.075616\n",
      "21   -172.50  60.0    6.526027   15.720548      207.0  2.295890\n",
      "22   -172.50  62.5    6.526027   15.720548      208.0  2.433973\n",
      "23   -172.50  65.0    6.526027   15.720548      209.0  2.375342\n",
      "24   -172.50  67.5    6.526027   15.720548      210.0  2.520000\n",
      "25   -172.50  70.0    6.526027   15.720548      211.0  2.613425\n",
      "26   -172.50  72.5    6.526027   15.720548      212.0  2.700000\n",
      "27   -172.50  75.0    6.493789   15.748447      213.0  2.795652\n",
      "28   -168.75  52.5    6.526027   15.720548      277.0  1.764932\n",
      "29   -168.75  55.0    6.526027   15.720548      278.0  1.958356\n",
      "...      ...   ...         ...         ...        ...       ...\n",
      "2314  168.75  75.0    6.375000   15.539474     6856.0  2.476316\n",
      "2315  168.75  77.5    6.273973   15.616438     6857.0  2.504110\n",
      "2316  172.50 -45.0    7.160000   17.220000     6881.0 -1.048000\n",
      "2317  172.50 -42.5    7.160000   17.220000     6882.0 -1.728000\n",
      "2318  172.50 -40.0    7.160000   17.220000     6883.0 -1.338000\n",
      "2319  172.50  50.0    5.688525   15.983607     6919.0  0.774590\n",
      "2320  172.50  52.5    6.087179   15.635897     6920.0  0.526154\n",
      "2321  172.50  55.0    6.550314   15.572327     6921.0  0.849057\n",
      "2322  172.50  57.5    6.581921   15.689266     6922.0  0.923446\n",
      "2323  172.50  60.0    6.557143   15.654286     6923.0  0.841143\n",
      "2324  172.50  62.5    6.514286   15.702857     6924.0  1.135714\n",
      "2325  172.50  65.0    6.545714   15.634286     6925.0  1.528286\n",
      "2326  172.50  67.5    6.560907   15.626062     6926.0  1.951275\n",
      "2327  172.50  70.0    6.541667   15.722222     6927.0  2.429444\n",
      "2328  172.50  72.5    6.474926   15.598820     6928.0  2.444248\n",
      "2329  172.50  75.0    6.394231   15.467949     6929.0  2.543910\n",
      "2330  172.50  77.5    5.409091   14.863636     6930.0  2.713636\n",
      "2331  176.25 -45.0    7.160000   17.220000     6954.0 -1.214000\n",
      "2332  176.25 -42.5    7.160000   17.220000     6955.0 -1.450000\n",
      "2333  176.25  52.5    6.294964   15.575540     6993.0  0.424460\n",
      "2334  176.25  55.0    6.424779   15.561947     6994.0  0.881858\n",
      "2335  176.25  57.5    6.650602   15.753012     6995.0  1.016265\n",
      "2336  176.25  60.0    6.511111   15.630556     6996.0  1.202778\n",
      "2337  176.25  62.5    6.526316   15.709141     6997.0  1.477562\n",
      "2338  176.25  65.0    6.522599   15.677966     6998.0  1.720056\n",
      "2339  176.25  67.5    6.541436   15.701657     6999.0  2.192818\n",
      "2340  176.25  70.0    6.526027   15.720548     7000.0  2.670959\n",
      "2341  176.25  72.5    6.511050   15.729282     7001.0  2.618508\n",
      "2342  176.25  75.0    6.417160   15.582840     7002.0  2.629290\n",
      "2343  176.25  77.5    6.161616   15.727273     7003.0  2.577778\n",
      "\n",
      "[2344 rows x 6 columns]\n"
     ]
    }
   ],
   "source": [
    "print dfsum"
   ]
  },
  {
   "cell_type": "code",
   "execution_count": 19,
   "metadata": {
    "collapsed": false
   },
   "outputs": [
    {
     "name": "stdout",
     "output_type": "stream",
     "text": [
      "['lon', 'lat', 'stationid2', 'stationid3', 'stationid', 'tmin']\n"
     ]
    }
   ],
   "source": [
    "from shapely.geometry import mapping, Point\n",
    "import fiona\n",
    "# from shapely.geometry import shape\n",
    "import os\n",
    "features = []\n",
    "\n",
    "try:\n",
    "    os.mkdir('scratch')\n",
    "except:\n",
    "    pass\n",
    "\n",
    "schema = {'geometry': 'Point',\n",
    "    'properties': {'station2': 'int',\n",
    "                  'station3': 'int',\n",
    "                  'station': 'int',\n",
    "                  'tmin': 'float:15.4'}\n",
    "}\n",
    "\n",
    "newindex = list(dfsum)\n",
    "print newindex\n",
    "with fiona.open('scratch/stationplaces.shp', 'w', driver='ESRI Shapefile', schema=schema) as c:\n",
    "    for d in dfsum.as_matrix():\n",
    "        feat = { \"type\": \"Feature\",\n",
    "            \"geometry\": mapping(Point(d[0],d[1])),\n",
    "            \"properties\": {\"station2\": d[2],\n",
    "                          \"station3\": d[3],\n",
    "                          \"station\": d[4],\n",
    "                          \"tmin\": d[5]}\n",
    "            }\n",
    "        c.write(feat)\n",
    "# Write a new Shapefile\n",
    "# with fiona.open('scratch/stationplaces.shp', 'w', 'ESRI Shapefile', schema) as c:\n",
    "#     ## If there are multiple geometries, put the \"for\" loop here\n",
    "#     for d in dfsum:\n",
    "#         print d"
   ]
  },
  {
   "cell_type": "code",
   "execution_count": null,
   "metadata": {
    "collapsed": false
   },
   "outputs": [],
   "source": [
    "import sys\n",
    "sys.path"
   ]
  },
  {
   "cell_type": "code",
   "execution_count": null,
   "metadata": {
    "collapsed": false
   },
   "outputs": [],
   "source": [
    "print sys.executable"
   ]
  },
  {
   "cell_type": "code",
   "execution_count": null,
   "metadata": {
    "collapsed": true
   },
   "outputs": [],
   "source": []
  }
 ],
 "metadata": {
  "kernelspec": {
   "display_name": "Python 2",
   "language": "python",
   "name": "python2"
  },
  "language_info": {
   "codemirror_mode": {
    "name": "ipython",
    "version": 2
   },
   "file_extension": ".py",
   "mimetype": "text/x-python",
   "name": "python",
   "nbconvert_exporter": "python",
   "pygments_lexer": "ipython2",
   "version": "2.7.12"
  }
 },
 "nbformat": 4,
 "nbformat_minor": 0
}
