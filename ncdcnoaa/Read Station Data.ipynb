{
 "cells": [
  {
   "cell_type": "code",
   "execution_count": 1,
   "metadata": {
    "collapsed": true
   },
   "outputs": [],
   "source": [
    "from shapely.geometry import Point"
   ]
  },
  {
   "cell_type": "code",
   "execution_count": 5,
   "metadata": {
    "collapsed": false
   },
   "outputs": [],
   "source": [
    "import csv\n",
    "data = []\n",
    "# ID            1-11   Character\n",
    "# LATITUDE     13-20   Real\n",
    "# LONGITUDE    22-30   Real\n",
    "# ELEMENT      32-35   Character\n",
    "# FIRSTYEAR    37-40   Integer\n",
    "# LASTYEAR     42-45   Integer\n",
    "# ACW00011604  17.1167  -61.7833 TMAX 1949 1949\n",
    "index = [\"stationid\", \"lat\", \"lon\", \"element\", \"firstyear\", \"lastyear\"]\n",
    "with open('data/ghcnd-inventory.txt', 'r') as fin:\n",
    "    for line in fin.readlines():\n",
    "        temparr = []\n",
    "        temparr.append(str(line[0:11]).strip())\n",
    "        temparr.append(float(line[11:20]))\n",
    "        temparr.append(float(line[20:31]))\n",
    "        temparr.append(str(line[31:35]).strip())\n",
    "        temparr.append(int(line[36:41]))\n",
    "        temparr.append(int(line[41:45]))\n",
    "        data.append(temparr) \n",
    "\n",
    "\n",
    "\n"
   ]
  },
  {
   "cell_type": "code",
   "execution_count": 14,
   "metadata": {
    "collapsed": false
   },
   "outputs": [
    {
     "name": "stdout",
     "output_type": "stream",
     "text": [
      "                                                              element  \\\n",
      "lon       lat                                                           \n",
      "-179.9830 -16.1330                           {TMAX, TMIN, PRCP, TAVG}   \n",
      "-179.3669  68.9000                     {TMAX, TMIN, PRCP, SNWD, TAVG}   \n",
      "-179.1000  66.3497                     {TMAX, TMIN, PRCP, SNWD, TAVG}   \n",
      "-178.9000  67.0000               {TMAX, TMIN, PRCP, SNWD, MDPR, TAVG}   \n",
      "-178.7170 -20.6670                           {TMAX, TMIN, PRCP, TAVG}   \n",
      "-178.6000 -79.9830                                             {TAVG}   \n",
      "-178.4833  70.9831                     {TMAX, TMIN, PRCP, SNWD, TAVG}   \n",
      "-178.4167 -80.0167  {TMAX, TMIN, PRCP, SNOW, SNWD, PGTM, WDFG, WSF...   \n",
      "-178.1170 -14.3170                           {TMAX, TMIN, PRCP, TAVG}   \n",
      "-178.0333  51.7500  {TMAX, TMIN, TOBS, PRCP, SNOW, SNWD, WT01, WT0...   \n",
      "-177.9170 -29.2500                           {TMAX, TMIN, PRCP, TAVG}   \n",
      "-177.3833  28.2000  {TMAX, TMIN, PRCP, SNOW, SNWD, ACMH, ACSH, AWN...   \n",
      "           28.2167         {TMAX, TMIN, PRCP, SNOW, SNWD, WT03, WT16}   \n",
      "-177.3500  28.2000               {TMAX, TMIN, PRCP, SNOW, WT14, WT16}   \n",
      "           28.2167  {TMAX, TMIN, TOBS, PRCP, SNOW, SNWD, WT01, WT0...   \n",
      "-176.6500  51.8833  {TMAX, TMIN, TOBS, PRCP, SNOW, SNWD, ACMH, ACS...   \n",
      "-176.5670 -43.9500                           {TMAX, TMIN, PRCP, TAVG}   \n",
      "-176.1670 -13.2330                           {TMAX, TMIN, PRCP, TAVG}   \n",
      "-175.8000  67.8300                     {TMAX, TMIN, PRCP, SNWD, TAVG}   \n",
      "-174.4500 -82.5170                                             {TAVG}   \n",
      "-174.2000  52.2167  {TMAX, TMIN, TOBS, PRCP, SNOW, SNWD, WT01, WT0...   \n",
      "-173.9830 -18.6500                           {TMAX, TMIN, PRCP, TAVG}   \n",
      "-173.2333  64.4167                     {TMAX, TMIN, PRCP, SNWD, TAVG}   \n",
      "-171.9170 -9.2000                            {TMAX, TMIN, PRCP, TAVG}   \n",
      "-171.8330  66.9330                     {TMAX, TMIN, PRCP, SNWD, TAVG}   \n",
      "-171.7500  63.7833  {TMAX, TMIN, TOBS, PRCP, SNOW, SNWD, DAPR, MDP...   \n",
      "-171.7167 -2.7667   {TMAX, TMIN, TOBS, PRCP, SNOW, SNWD, DAPR, MDP...   \n",
      "          -2.7333                      {TMAX, TMIN, PRCP, SNOW, WT16}   \n",
      "-171.0833 -11.0500         {TMAX, TMIN, PRCP, SNOW, SNWD, DAPR, MDPR}   \n",
      "-170.7833 -14.3500  {TMAX, TMIN, TOBS, PRCP, SNOW, SNWD, DAPR, MDP...   \n",
      "...                                                               ...   \n",
      " 171.7333  6.0833                      {TMAX, TMIN, PRCP, SNOW, SNWD}   \n",
      " 172.5320 -43.4890                     {TMAX, TMIN, PRCP, SNWD, TAVG}   \n",
      " 172.7000  63.4000                     {TMAX, TMIN, PRCP, SNWD, TAVG}   \n",
      " 172.9170  1.3500                            {TMAX, TMIN, PRCP, TAVG}   \n",
      " 172.9333  1.3500                                        {SNOW, SNWD}   \n",
      " 173.1667  52.8000  {TMAX, TMIN, PRCP, SNOW, SNWD, PGTM, WDFG, WES...   \n",
      " 173.1833  52.8333  {TMAX, TMIN, TOBS, PRCP, SNOW, SNWD, DAPR, DAS...   \n",
      " 173.2670 -35.1000                           {TMAX, TMIN, PRCP, TAVG}   \n",
      " 173.3300  66.3797                     {TMAX, TMIN, PRCP, SNWD, TAVG}   \n",
      " 173.7000 -42.4170                           {TMAX, TMIN, PRCP, TAVG}   \n",
      " 174.1000  52.7167  {TMAX, TMIN, PRCP, SNOW, SNWD, FRGB, FRGT, FRT...   \n",
      " 174.1670 -83.1330                                             {TAVG}   \n",
      " 174.1830 -39.0170                           {TMAX, TMIN, PRCP, TAVG}   \n",
      " 174.7500 -83.4000  {TMAX, TMIN, PRCP, SNOW, SNWD, PGTM, WDFG, WSF...   \n",
      " 174.8000 -41.3330                           {TMAX, TMIN, PRCP, TAVG}   \n",
      "          -37.0000                           {TMAX, TMIN, PRCP, TAVG}   \n",
      " 174.9830 -40.9000                           {TMAX, TMIN, PRCP, TAVG}   \n",
      " 175.2000  62.0500                           {TMAX, TMIN, PRCP, TAVG}   \n",
      " 175.7700  69.8797                     {TMAX, TMIN, PRCP, SNWD, TAVG}   \n",
      " 176.1330 -5.6670                            {TMAX, TMIN, PRCP, TAVG}   \n",
      " 177.0500 -12.5000                           {TMAX, TMIN, PRCP, TAVG}   \n",
      " 177.4500 -17.7500                           {TMAX, TMIN, PRCP, TAVG}   \n",
      " 177.5667  64.7831                     {TMAX, TMIN, PRCP, SNWD, TAVG}   \n",
      " 177.9830 -38.6500                           {TMAX, TMIN, PRCP, TAVG}   \n",
      " 178.5590 -18.0430                           {TMAX, TMIN, PRCP, TAVG}   \n",
      " 179.1000  62.4000               {TMAX, TMIN, PRCP, SNWD, MDPR, TAVG}   \n",
      " 179.2170 -8.5170                            {TMAX, TMIN, PRCP, TAVG}   \n",
      " 179.2500  51.3833  {TMAX, TMIN, PRCP, SNOW, SNWD, PGTM, WDFG, WSF...   \n",
      " 179.2833  51.3833  {TMAX, TMIN, TOBS, PRCP, SNOW, SNWD, DAPR, DAS...   \n",
      " 179.3200  63.0500                     {TMAX, TMIN, PRCP, SNWD, TAVG}   \n",
      "\n",
      "                    firstyear  lastyear      lat       lon    stationid  \n",
      "lon       lat                                                            \n",
      "-179.9830 -16.1330       1973      2016 -16.1330 -179.9830  FJ000091652  \n",
      "-179.3669  68.9000       1936      2013  68.9000 -179.3669  RSM00025173  \n",
      "-179.1000  66.3497       1948      2016  66.3497 -179.1000  RSM00025378  \n",
      "-178.9000  67.0000       1955      1995  67.0000 -178.9000  RSM00025372  \n",
      "-178.7170 -20.6670       1973      2016 -20.6670 -178.7170  FJM00091699  \n",
      "-178.6000 -79.9830       1997      2014 -79.9830 -178.6000  AYM00089376  \n",
      "-178.4833  70.9831       1926      2016  70.9831 -178.4833  RSM00021982  \n",
      "-178.4167 -80.0167       1966      1969 -80.0167 -178.4167  AYW00068701  \n",
      "-178.1170 -14.3170       1973      2016 -14.3170 -178.1170  WFM00091754  \n",
      "-178.0333  51.7500       1947      1949  51.7500 -178.0333  USW00025709  \n",
      "-177.9170 -29.2500       1940      2016 -29.2500 -177.9170  NZ000093994  \n",
      "-177.3833  28.2000       1949      1995  28.2000 -177.3833  MQW00022701  \n",
      "           28.2167       1950      1950  28.2167 -177.3833  USW00022703  \n",
      "-177.3500  28.2000       1938      1941  28.2000 -177.3500  USC00516271  \n",
      "           28.2167       1953      1991  28.2167 -177.3500  MQC00914490  \n",
      "-176.6500  51.8833       1942      1997  51.8833 -176.6500  USW00025704  \n",
      "-176.5670 -43.9500       1956      2012 -43.9500 -176.5670  NZ000939870  \n",
      "-176.1670 -13.2330       1943      2016 -13.2330 -176.1670  WF000917530  \n",
      "-175.8000  67.8300       1955      2016  67.8300 -175.8000  RSM00025282  \n",
      "-174.4500 -82.5170       1990      2011 -82.5170 -174.4500  AYM00089377  \n",
      "-174.2000  52.2167       1916      1949  52.2167 -174.2000  USW00025708  \n",
      "-173.9830 -18.6500       1973      1995 -18.6500 -173.9830  TN000091780  \n",
      "-173.2333  64.4167       1936      2016  64.4167 -173.2333  RSM00025594  \n",
      "-171.9170 -9.2000        1973      1995  -9.2000 -171.9170  TL000091724  \n",
      "-171.8330  66.9330       1955      1992  66.9330 -171.8330  RSM00025392  \n",
      "-171.7500  63.7833       1901      1997  63.7833 -171.7500  USW00026703  \n",
      "-171.7167 -2.7667        1913      1979  -2.7667 -171.7167  KRW00060703  \n",
      "          -2.7333        1945      1945  -2.7333 -171.7167  KRW00060702  \n",
      "-171.0833 -11.0500       1968      1976 -11.0500 -171.0833  AQC00914822  \n",
      "-170.7833 -14.3500       1967      1978 -14.3500 -170.7833  AQC00914397  \n",
      "...                       ...       ...      ...       ...          ...  \n",
      " 171.7333  6.0833        1985      2016   6.0833  171.7333  RMC00914487  \n",
      " 172.5320 -43.4890       1954      2016 -43.4890  172.5320  NZM00093781  \n",
      " 172.7000  63.4000       1944      1995  63.4000  172.7000  RSM00025656  \n",
      " 172.9170  1.3500        1944      2016   1.3500  172.9170  KR000091610  \n",
      " 172.9333  1.3500        1958      1958   1.3500  172.9333  KRW00040702  \n",
      " 173.1667  52.8000       1947      1958  52.8000  173.1667  USW00045709  \n",
      " 173.1833  52.8333       1917      1993  52.8333  173.1833  USC00500452  \n",
      " 173.2670 -35.1000       1965      2016 -35.1000  173.2670  NZ000093012  \n",
      " 173.3300  66.3797       1946      2016  66.3797  173.3300  RSM00025356  \n",
      " 173.7000 -42.4170       1997      2016 -42.4170  173.7000  NZM00093678  \n",
      " 174.1000  52.7167       1943      1995  52.7167  174.1000  USW00045715  \n",
      " 174.1670 -83.1330       1994      2016 -83.1330  174.1670  AYM00089873  \n",
      " 174.1830 -39.0170       1944      2016 -39.0170  174.1830  NZ000933090  \n",
      " 174.7500 -83.4000       1959      1963 -83.4000  174.7500  AYW00088702  \n",
      " 174.8000 -41.3330       1995      2016 -41.3330  174.8000  NZM00093439  \n",
      "          -37.0000       1994      2016 -37.0000  174.8000  NZM00093110  \n",
      " 174.9830 -40.9000       1972      2016 -40.9000  174.9830  NZ000093417  \n",
      " 175.2000  62.0500       1966      2013  62.0500  175.2000  RSM00025767  \n",
      " 175.7700  69.8797       1955      2016  69.8797  175.7700  RSM00025062  \n",
      " 176.1330 -5.6670        1943      2016  -5.6670  176.1330  TV000091631  \n",
      " 177.0500 -12.5000       1973      2016 -12.5000  177.0500  FJ000091650  \n",
      " 177.4500 -17.7500       1942      2016 -17.7500  177.4500  FJ000091680  \n",
      " 177.5667  64.7831       1898      2016  64.7831  177.5667  RSM00025563  \n",
      " 177.9830 -38.6500       1962      2016 -38.6500  177.9830  NZ000093292  \n",
      " 178.5590 -18.0430       1973      2016 -18.0430  178.5590  FJM00091683  \n",
      " 179.1000  62.4000       1936      1995  62.4000  179.1000  RSM00025777  \n",
      " 179.2170 -8.5170        1943      2016  -8.5170  179.2170  TV000091643  \n",
      " 179.2500  51.3833       1949      1965  51.3833  179.2500  USW00045702  \n",
      " 179.2833  51.3833       1943      1993  51.3833  179.2833  USC00500252  \n",
      " 179.3200  63.0500       1955      2013  63.0500  179.3200  RSM00025677  \n",
      "\n",
      "[99356 rows x 6 columns]\n"
     ]
    }
   ],
   "source": [
    "# for d in data:\n",
    "#     if d[2] == 5788:\n",
    "#         print d\n",
    "\n",
    "import pandas as pd\n",
    "\n",
    "def f(x):\n",
    "     return pd.Series(dict(firstyear = x['firstyear'].min(), \n",
    "                        lastyear = x['lastyear'].max(), \n",
    "                        element = \"{%s}\" % ', '.join(x['element']),\n",
    "                        stationid= x['stationid'].max(),\n",
    "                        lat=x['lat'].max(),\n",
    "                        lon=x['lon'].max()))\n",
    "\n",
    "df = pd.DataFrame(data, columns=index)\n",
    "\n",
    "dfsum = df.groupby(('lon', 'lat',), as_index=False).apply(f)\n",
    "print dfsum"
   ]
  },
  {
   "cell_type": "code",
   "execution_count": 18,
   "metadata": {
    "collapsed": false
   },
   "outputs": [
    {
     "name": "stdout",
     "output_type": "stream",
     "text": [
      "['element', 'firstyear', 'lastyear', 'lat', 'lon', 'stationid']\n"
     ]
    }
   ],
   "source": [
    "from shapely.geometry import mapping, Point\n",
    "import fiona\n",
    "# from shapely.geometry import shape\n",
    "import os\n",
    "features = []\n",
    "\n",
    "try:\n",
    "    os.mkdir('scratch')\n",
    "except:\n",
    "    pass\n",
    "\n",
    "schema = {'geometry': 'Point',\n",
    "    'properties': {'stationid': 'str',\n",
    "                  'measures': 'str',\n",
    "                  'firstyear': 'int',\n",
    "                  'lastyear': 'int'}\n",
    "}\n",
    "\n",
    "newindex = list(dfsum)\n",
    "print newindex\n",
    "with fiona.open('scratch/stationplaces.shp', 'w', driver='ESRI Shapefile', schema=schema) as c:\n",
    "    for d in dfsum.as_matrix():\n",
    "        feat = { \"type\": \"Feature\",\n",
    "            \"geometry\": mapping(Point(d[4],d[3])),\n",
    "            \"properties\": {\"stationid\": d[5],\n",
    "                          \"measures\": d[0],\n",
    "                          \"firstyear\": d[1],\n",
    "                          \"lastyear\": d[2]}\n",
    "            }\n",
    "        c.write(feat)\n",
    "# Write a new Shapefile\n",
    "# with fiona.open('scratch/stationplaces.shp', 'w', 'ESRI Shapefile', schema) as c:\n",
    "#     ## If there are multiple geometries, put the \"for\" loop here\n",
    "#     for d in dfsum:\n",
    "#         print d"
   ]
  },
  {
   "cell_type": "code",
   "execution_count": null,
   "metadata": {
    "collapsed": false
   },
   "outputs": [],
   "source": [
    "import sys\n",
    "sys.path"
   ]
  },
  {
   "cell_type": "code",
   "execution_count": null,
   "metadata": {
    "collapsed": false
   },
   "outputs": [],
   "source": [
    "print sys.executable"
   ]
  },
  {
   "cell_type": "code",
   "execution_count": null,
   "metadata": {
    "collapsed": true
   },
   "outputs": [],
   "source": []
  }
 ],
 "metadata": {
  "kernelspec": {
   "display_name": "Python 2",
   "language": "python",
   "name": "python2"
  },
  "language_info": {
   "codemirror_mode": {
    "name": "ipython",
    "version": 2
   },
   "file_extension": ".py",
   "mimetype": "text/x-python",
   "name": "python",
   "nbconvert_exporter": "python",
   "pygments_lexer": "ipython2",
   "version": "2.7.12"
  }
 },
 "nbformat": 4,
 "nbformat_minor": 0
}
