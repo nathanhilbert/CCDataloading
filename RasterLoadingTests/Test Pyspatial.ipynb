{
 "cells": [
  {
   "cell_type": "code",
   "execution_count": 1,
   "metadata": {
    "collapsed": false
   },
   "outputs": [],
   "source": [
    "import pyspatial\n",
    "import time\n",
    "starttime = time.time()"
   ]
  },
  {
   "cell_type": "code",
   "execution_count": 2,
   "metadata": {
    "collapsed": false
   },
   "outputs": [],
   "source": [
    "rd = pyspatial.read_raster(\"/data/landscancomplete/landscan.tif\")\n",
    "# rd = pyspatial.read_raster(\"/Users/nlh/Workspace/HeatIslands/esihUHIData/daymetcache/daymet_v3_tmin_2015_na.nc4\")"
   ]
  },
  {
   "cell_type": "code",
   "execution_count": 3,
   "metadata": {
    "collapsed": false
   },
   "outputs": [
    {
     "name": "stdout",
     "output_type": "stream",
     "text": [
      "PROJCS[\"WGS_84_Pseudo_Mercator\",\n",
      "    GEOGCS[\"GCS_WGS_1984\",\n",
      "        DATUM[\"WGS_1984\",\n",
      "            SPHEROID[\"WGS_84\",6378137,298.257223563]],\n",
      "        PRIMEM[\"Greenwich\",0],\n",
      "        UNIT[\"Degree\",0.017453292519943295]],\n",
      "    PROJECTION[\"Mercator_1SP\"],\n",
      "    PARAMETER[\"central_meridian\",0],\n",
      "    PARAMETER[\"false_easting\",0],\n",
      "    PARAMETER[\"false_northing\",0],\n",
      "    UNIT[\"Meter\",1],\n",
      "    PARAMETER[\"latitude_of_origin\",0.0]]\n"
     ]
    }
   ],
   "source": [
    "from pyspatial.vector import read_layer, read_datasource, to_shapely\n",
    "url = \"/Users/nlh/Workspace/Urbis/DataLoading/RasterLoadingTests/data/urbanextents.zip\"\n",
    "vl, vldf = read_layer(url, layer=0, index='id')\n",
    "print vl.proj\n",
    "\n",
    "# for r in rd.query(wash_il):"
   ]
  },
  {
   "cell_type": "code",
   "execution_count": 4,
   "metadata": {
    "collapsed": false
   },
   "outputs": [
    {
     "name": "stdout",
     "output_type": "stream",
     "text": [
      "4083    POLYGON ((-11168863.557853760197759 5520943.02...\n",
      "2024    POLYGON ((-12879281.01126599684358 5332684.431...\n",
      "2026    POLYGON ((-11837913.808952776715159 5283607.79...\n",
      "dtype: object\n"
     ]
    }
   ],
   "source": [
    "from IPython.display import SVG, HTML\n",
    "import numpy as np\n",
    "import matplotlib.pyplot as plt\n",
    "from skimage.color import rgb2gray\n",
    "from PIL import Image, ImageDraw\n",
    "import pandas as pd\n",
    "\n",
    "from IPython.display import SVG, HTML\n",
    "from pyspatial.raster import read_raster, rasterize\n",
    "from pyspatial.vector import read_layer, to_shapely, to_geometry\n",
    "from pyspatial import spatiallib as slib\n",
    "\n",
    "\n",
    "# 2026, 2024, 4083\n",
    "print vl[[4083,2024,2026]]\n",
    "# print vl.index\n",
    "# print vl.areas()\n"
   ]
  },
  {
   "cell_type": "code",
   "execution_count": 5,
   "metadata": {
    "collapsed": false
   },
   "outputs": [
    {
     "name": "stdout",
     "output_type": "stream",
     "text": [
      "3\n"
     ]
    }
   ],
   "source": [
    "# p = rd.query(z)\n",
    "# print rd.proj\n",
    "# print vl.proj\n",
    "# print rd.get_extent()\n",
    "# print type(vl)\n",
    "\n",
    "\n",
    "\n",
    "# bbox = rd.bbox()\n",
    "# print bbox\n",
    "# vl = vl.within(bbox)\n",
    "\n",
    "# shp = to_geometry(bbox, proj=vl.proj, copy=True)\n",
    "# _shp, ids = vl._get_index_intersection(shp)\n",
    "# # print \"what is this now\", [i for i in ids]\n",
    "# ids = [i for i in ids if vl[i].Within(shp)]\n",
    "\n",
    "# r3 = rd.query(vl)\n",
    "# for p in r3:\n",
    "#     print p\n",
    "counter = 0\n",
    "for i in rd.query(vl[[4083,2024,2026]]):\n",
    "    counter +=1\n",
    "    \n",
    "print counter\n",
    "    \n",
    "# for r in rd.query(vl[0]):\n",
    "#     print r"
   ]
  },
  {
   "cell_type": "code",
   "execution_count": 6,
   "metadata": {
    "collapsed": false
   },
   "outputs": [
    {
     "name": "stdout",
     "output_type": "stream",
     "text": [
      "took 14.7944848537\n"
     ]
    }
   ],
   "source": [
    "print \"took\", time.time() - starttime"
   ]
  },
  {
   "cell_type": "code",
   "execution_count": null,
   "metadata": {
    "collapsed": true
   },
   "outputs": [],
   "source": []
  },
  {
   "cell_type": "code",
   "execution_count": null,
   "metadata": {
    "collapsed": true
   },
   "outputs": [],
   "source": []
  },
  {
   "cell_type": "code",
   "execution_count": null,
   "metadata": {
    "collapsed": true
   },
   "outputs": [],
   "source": []
  },
  {
   "cell_type": "code",
   "execution_count": null,
   "metadata": {
    "collapsed": true
   },
   "outputs": [],
   "source": []
  }
 ],
 "metadata": {
  "kernelspec": {
   "display_name": "Python 2",
   "language": "python",
   "name": "python2"
  },
  "language_info": {
   "codemirror_mode": {
    "name": "ipython",
    "version": 2
   },
   "file_extension": ".py",
   "mimetype": "text/x-python",
   "name": "python",
   "nbconvert_exporter": "python",
   "pygments_lexer": "ipython2",
   "version": "2.7.12"
  }
 },
 "nbformat": 4,
 "nbformat_minor": 0
}
